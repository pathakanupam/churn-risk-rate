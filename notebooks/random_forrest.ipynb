{
 "cells": [
  {
   "cell_type": "markdown",
   "metadata": {
    "id": "3EMDD_CVOYLo"
   },
   "source": [
    "## Task : Predict the churn score for a website based on the features provided in the dataset."
   ]
  },
  {
   "cell_type": "code",
   "execution_count": null,
   "metadata": {
    "colab": {
     "base_uri": "https://localhost:8080/"
    },
    "executionInfo": {
     "elapsed": 2895,
     "status": "ok",
     "timestamp": 1618072928046,
     "user": {
      "displayName": "Musical Pamya",
      "photoUrl": "",
      "userId": "09464892964237415657"
     },
     "user_tz": -330
    },
    "id": "knJbCVnWOeCR",
    "outputId": "07987294-2ed4-49f5-a824-457a41e3642e"
   },
   "outputs": [],
   "source": [
    "# from google.colab import drive\n",
    "# drive.mount('/content/drive/')"
   ]
  },
  {
   "cell_type": "code",
   "execution_count": null,
   "metadata": {
    "executionInfo": {
     "elapsed": 3823,
     "status": "ok",
     "timestamp": 1618072929001,
     "user": {
      "displayName": "Musical Pamya",
      "photoUrl": "",
      "userId": "09464892964237415657"
     },
     "user_tz": -330
    },
    "id": "PKUe8HQIOYLw"
   },
   "outputs": [],
   "source": [
    "import pandas as pd\n",
    "import numpy as np\n",
    "\n",
    "import matplotlib.pyplot as plt\n",
    "import seaborn as sns"
   ]
  },
  {
   "cell_type": "markdown",
   "metadata": {},
   "source": [
    "### Data Cleaning"
   ]
  },
  {
   "cell_type": "code",
   "execution_count": null,
   "metadata": {
    "executionInfo": {
     "elapsed": 3818,
     "status": "ok",
     "timestamp": 1618072929002,
     "user": {
      "displayName": "Musical Pamya",
      "photoUrl": "",
      "userId": "09464892964237415657"
     },
     "user_tz": -330
    },
    "id": "XAp45_KbOYLx"
   },
   "outputs": [],
   "source": [
    "train = pd.read_csv(r'F:\\Projects\\Hackathons\\HE\\churn_risk_rate\\dataset\\train.csv')\n",
    "test = pd.read_csv(r'F:\\Projects\\Hackathons\\HE\\churn_risk_rate\\dataset\\test.csv')\n",
    "\n",
    "# train = pd.read_csv(r'/content/drive/MyDrive/Projects/churn_risk_rate/dataset/train.csv')\n",
    "# test = pd.read_csv(r'/content/drive/MyDrive/Projects/churn_risk_rate/dataset/test.csv')\n",
    "\n",
    "\n",
    "# Dropping unimportant columns\n",
    "output = pd.DataFrame(columns = ['customer_id','churn_risk_score'])\n",
    "output['customer_id'] = test['customer_id']\n",
    "cols_to_drop = ['customer_id', 'Name', 'security_no']\n",
    "train = train.drop(cols_to_drop, axis = 1)\n",
    "test = test.drop(cols_to_drop, axis = 1)\n"
   ]
  },
  {
   "cell_type": "code",
   "execution_count": null,
   "metadata": {
    "executionInfo": {
     "elapsed": 3813,
     "status": "ok",
     "timestamp": 1618072929003,
     "user": {
      "displayName": "Musical Pamya",
      "photoUrl": "",
      "userId": "09464892964237415657"
     },
     "user_tz": -330
    },
    "id": "sBm2A82VOYLy"
   },
   "outputs": [],
   "source": [
    "from sklearn.impute import SimpleImputer\n",
    "imputer_gender = SimpleImputer(missing_values = 'Unknown', strategy='most_frequent')\n",
    "train.loc[:,'gender'] = imputer_gender.fit_transform(train.loc[:,'gender'].to_numpy().reshape(-1,1))\n",
    "\n",
    "test.loc[:,'gender'] = imputer_gender.transform(test.loc[:,'gender'].to_numpy().reshape(-1,1))"
   ]
  },
  {
   "cell_type": "code",
   "execution_count": null,
   "metadata": {
    "executionInfo": {
     "elapsed": 3808,
     "status": "ok",
     "timestamp": 1618072929003,
     "user": {
      "displayName": "Musical Pamya",
      "photoUrl": "",
      "userId": "09464892964237415657"
     },
     "user_tz": -330
    },
    "id": "uulp1F-xOYLz"
   },
   "outputs": [],
   "source": [
    "from sklearn.impute import SimpleImputer\n",
    "imputer_medium_of_operation = SimpleImputer(missing_values = '?', strategy='most_frequent')\n",
    "train.loc[:,'medium_of_operation'] = imputer_medium_of_operation.fit_transform(train.loc[:,'medium_of_operation'].to_numpy().reshape(-1,1))\n",
    "test.loc[:,'medium_of_operation'] = imputer_medium_of_operation.transform(test.loc[:,'medium_of_operation'].to_numpy().reshape(-1,1))"
   ]
  },
  {
   "cell_type": "code",
   "execution_count": null,
   "metadata": {
    "executionInfo": {
     "elapsed": 3805,
     "status": "ok",
     "timestamp": 1618072929006,
     "user": {
      "displayName": "Musical Pamya",
      "photoUrl": "",
      "userId": "09464892964237415657"
     },
     "user_tz": -330
    },
    "id": "duD1NSm1OYL0"
   },
   "outputs": [],
   "source": [
    "train. avg_frequency_login_days = train.avg_frequency_login_days.replace({'Error':np.nan})\n",
    "train.avg_frequency_login_days = pd.to_numeric(train.avg_frequency_login_days)\n",
    "\n",
    "test.avg_frequency_login_days = test.avg_frequency_login_days.replace({'Error':np.nan})\n",
    "test.avg_frequency_login_days = pd.to_numeric(test.avg_frequency_login_days)"
   ]
  },
  {
   "cell_type": "code",
   "execution_count": null,
   "metadata": {
    "executionInfo": {
     "elapsed": 3800,
     "status": "ok",
     "timestamp": 1618072929006,
     "user": {
      "displayName": "Musical Pamya",
      "photoUrl": "",
      "userId": "09464892964237415657"
     },
     "user_tz": -330
    },
    "id": "VRAVf1FhOYL0"
   },
   "outputs": [],
   "source": [
    "from sklearn.impute import SimpleImputer\n",
    "imputer_avg_f_login_days = SimpleImputer(missing_values = np.nan, strategy='mean')\n",
    "train.loc[:,'avg_frequency_login_days'] = imputer_avg_f_login_days.fit_transform(train.loc[:,'avg_frequency_login_days'].to_numpy().reshape(-1,1))\n",
    "\n",
    "test.loc[:,'avg_frequency_login_days'] = imputer_avg_f_login_days.transform(test.loc[:,'avg_frequency_login_days'].to_numpy().reshape(-1,1))"
   ]
  },
  {
   "cell_type": "code",
   "execution_count": null,
   "metadata": {
    "executionInfo": {
     "elapsed": 10174,
     "status": "ok",
     "timestamp": 1618072935385,
     "user": {
      "displayName": "Musical Pamya",
      "photoUrl": "",
      "userId": "09464892964237415657"
     },
     "user_tz": -330
    },
    "id": "KekL1owROYL1"
   },
   "outputs": [],
   "source": [
    "for i in range(train.shape[0]): \n",
    "    if train.loc[i, 'joined_through_referral'] == '?' : \n",
    "        if train.loc[i, 'referral_id'] == 'xxxxxxxx' : \n",
    "            train.loc[i, 'joined_through_referral'] = 'No'\n",
    "        else : \n",
    "            train.loc[i, 'joined_through_referral'] = 'Yes'\n",
    "\n",
    "for i in range(test.shape[0]):           \n",
    "    if test.loc[i, 'joined_through_referral'] == '?' : \n",
    "        if test.loc[i, 'referral_id'] == 'xxxxxxxx' : \n",
    "            test.loc[i, 'joined_through_referral'] = 'No'\n",
    "        else : \n",
    "            test.loc[i, 'joined_through_referral'] = 'Yes'"
   ]
  },
  {
   "cell_type": "code",
   "execution_count": null,
   "metadata": {
    "executionInfo": {
     "elapsed": 12184,
     "status": "ok",
     "timestamp": 1618072937401,
     "user": {
      "displayName": "Musical Pamya",
      "photoUrl": "",
      "userId": "09464892964237415657"
     },
     "user_tz": -330
    },
    "id": "sFagiW3cOYL1"
   },
   "outputs": [],
   "source": [
    "cols  = ['region_category', 'preferred_offer_types']\n",
    "\n",
    "imputer_cat = SimpleImputer(missing_values = np.nan, strategy = 'most_frequent')\n",
    "train.loc[:,cols] = imputer_cat.fit_transform(train.loc[:,cols])\n",
    "test.loc[:,cols] = imputer_cat.fit_transform(test.loc[:,cols])"
   ]
  },
  {
   "cell_type": "code",
   "execution_count": null,
   "metadata": {
    "executionInfo": {
     "elapsed": 12179,
     "status": "ok",
     "timestamp": 1618072937402,
     "user": {
      "displayName": "Musical Pamya",
      "photoUrl": "",
      "userId": "09464892964237415657"
     },
     "user_tz": -330
    },
    "id": "Nw8znRdFOYL2"
   },
   "outputs": [],
   "source": [
    "imputer_points_in_wallet = SimpleImputer(missing_values = np.nan, strategy = 'mean')\n",
    "\n",
    "train.loc[:,'points_in_wallet'] = imputer_points_in_wallet.fit_transform(train.loc[:,'points_in_wallet'].to_numpy().reshape(-1,1))\n",
    "test.loc[:,'points_in_wallet'] = imputer_points_in_wallet.fit_transform(test.loc[:,'points_in_wallet'].to_numpy().reshape(-1,1))"
   ]
  },
  {
   "cell_type": "code",
   "execution_count": null,
   "metadata": {
    "executionInfo": {
     "elapsed": 12173,
     "status": "ok",
     "timestamp": 1618072937403,
     "user": {
      "displayName": "Musical Pamya",
      "photoUrl": "",
      "userId": "09464892964237415657"
     },
     "user_tz": -330
    },
    "id": "oKa-NulIOYL2"
   },
   "outputs": [],
   "source": [
    "train = train.drop(['referral_id', 'joining_date', 'last_visit_time'], axis = 1)\n",
    "test = test.drop(['referral_id', 'joining_date', 'last_visit_time'], axis = 1)"
   ]
  },
  {
   "cell_type": "code",
   "execution_count": null,
   "metadata": {
    "executionInfo": {
     "elapsed": 14230,
     "status": "ok",
     "timestamp": 1618072939467,
     "user": {
      "displayName": "Musical Pamya",
      "photoUrl": "",
      "userId": "09464892964237415657"
     },
     "user_tz": -330
    },
    "id": "SW9_5NrdOYL3"
   },
   "outputs": [],
   "source": [
    "train.avg_time_spent = abs(train.avg_time_spent)\n",
    "test.avg_time_spent = abs(test.avg_time_spent)\n",
    "\n",
    "train.avg_frequency_login_days = abs(train.avg_frequency_login_days)\n",
    "test.avg_frequency_login_days = abs(test.avg_frequency_login_days)\n",
    "\n",
    "for i in range(train.shape[0]) :\n",
    "    if train.loc[i,'days_since_last_login'] < 0 : \n",
    "        train.loc[i,'days_since_last_login'] = 0\n",
    "\n",
    "for i in range(test.shape[0]) : \n",
    "    if test.loc[i,'days_since_last_login'] < 0 : \n",
    "        test.loc[i,'days_since_last_login'] = 0"
   ]
  },
  {
   "cell_type": "code",
   "execution_count": null,
   "metadata": {
    "executionInfo": {
     "elapsed": 14225,
     "status": "ok",
     "timestamp": 1618072939469,
     "user": {
      "displayName": "Musical Pamya",
      "photoUrl": "",
      "userId": "09464892964237415657"
     },
     "user_tz": -330
    },
    "id": "7PRqFJSdOYL4"
   },
   "outputs": [],
   "source": [
    "X_train, y_train = train.iloc[:,:-1], train.iloc[:,-1]\n",
    "X_test = test"
   ]
  },
  {
   "cell_type": "code",
   "execution_count": null,
   "metadata": {
    "executionInfo": {
     "elapsed": 14221,
     "status": "ok",
     "timestamp": 1618072939471,
     "user": {
      "displayName": "Musical Pamya",
      "photoUrl": "",
      "userId": "09464892964237415657"
     },
     "user_tz": -330
    },
    "id": "HiyutmI8OYL4"
   },
   "outputs": [],
   "source": [
    "cols_2_onehotencode = ['gender', 'region_category', 'membership_category',\n",
    "       'joined_through_referral', 'preferred_offer_types',\n",
    "       'medium_of_operation', 'internet_option', 'used_special_discount',\n",
    "       'offer_application_preference', 'past_complaint', 'complaint_status',\n",
    "       'feedback']\n",
    "\n",
    "\n",
    "from sklearn.compose import ColumnTransformer\n",
    "from sklearn.preprocessing import OneHotEncoder\n",
    "\n",
    "ct = ColumnTransformer(transformers=[('encoder',OneHotEncoder(),cols_2_onehotencode)], remainder='passthrough')\n",
    "X_train = ct.fit_transform(X_train)\n",
    "X_test = ct.transform(X_test)\n"
   ]
  },
  {
   "cell_type": "code",
   "execution_count": null,
   "metadata": {
    "executionInfo": {
     "elapsed": 14213,
     "status": "ok",
     "timestamp": 1618072939472,
     "user": {
      "displayName": "Musical Pamya",
      "photoUrl": "",
      "userId": "09464892964237415657"
     },
     "user_tz": -330
    },
    "id": "cNtT-g6UOYL8"
   },
   "outputs": [],
   "source": [
    "from sklearn.preprocessing import StandardScaler\n",
    "\n",
    "sc = StandardScaler()\n",
    "\n",
    "X_train = sc.fit_transform(X_train)\n",
    "X_test = sc.transform(X_test)"
   ]
  },
  {
   "cell_type": "code",
   "execution_count": null,
   "metadata": {
    "executionInfo": {
     "elapsed": 14209,
     "status": "ok",
     "timestamp": 1618072939473,
     "user": {
      "displayName": "Musical Pamya",
      "photoUrl": "",
      "userId": "09464892964237415657"
     },
     "user_tz": -330
    },
    "id": "LYQrpT9UOYL8"
   },
   "outputs": [],
   "source": [
    "# y_train = y_train.replace(-1,0)"
   ]
  },
  {
   "cell_type": "markdown",
   "metadata": {},
   "source": [
    "### Random Forrest with Hyperparameter tuning"
   ]
  },
  {
   "cell_type": "code",
   "execution_count": null,
   "metadata": {
    "colab": {
     "base_uri": "https://localhost:8080/"
    },
    "executionInfo": {
     "elapsed": 12996382,
     "status": "ok",
     "timestamp": 1618085921652,
     "user": {
      "displayName": "Musical Pamya",
      "photoUrl": "",
      "userId": "09464892964237415657"
     },
     "user_tz": -330
    },
    "id": "-mggqCPdOYL8",
    "outputId": "f6e90f30-a22f-433c-8c95-738ee03ef407"
   },
   "outputs": [],
   "source": [
    "from sklearn.ensemble import RandomForestClassifier\n",
    "from sklearn.model_selection import GridSearchCV, cross_val_score\n",
    "from datetime import datetime\n",
    "import pickle\n",
    "\n",
    "start = datetime.now()\n",
    "\n",
    "param = {\n",
    "          'max_depth': [40,50,60],\n",
    "          'min_samples_leaf': [1, 3, 5],\n",
    "          'min_samples_split': [2, 4, 6],\n",
    "          'n_estimators': [150, 200, 250]\n",
    "        }\n",
    "\n",
    "grids = GridSearchCV(RandomForestClassifier(max_features = 'sqrt'), param_grid = param, cv = 3, scoring='f1_macro', n_jobs = 1, verbose = 10).fit(X_train, y_train)\n",
    "\n",
    "end = datetime.now()\n",
    "\n",
    "with open(r\"F:\\Projects\\Hackathons\\HE\\churn_risk_rate\\pickle\\{}.pkl\".format('rf'), \"wb\") as f:   \n",
    "    pickle.dump(grids, f)"
   ]
  },
  {
   "cell_type": "code",
   "execution_count": null,
   "metadata": {},
   "outputs": [],
   "source": [
    "print('------| Time to fit the model : {} |------'.format(end - start))\n",
    "\n",
    "print('------| Best paramters : {} |------'.format(grids.best_params_))\n",
    "\n",
    "print('------| Best score : {} |------'.format(grids.best_score_))"
   ]
  },
  {
   "cell_type": "code",
   "execution_count": null,
   "metadata": {},
   "outputs": [],
   "source": [
    "from sklearn.metrics import confusion_matrix\n",
    "\n",
    "confusion_matrix(y_train, grids.predict(X_train))"
   ]
  },
  {
   "cell_type": "code",
   "execution_count": null,
   "metadata": {
    "executionInfo": {
     "elapsed": 12996987,
     "status": "ok",
     "timestamp": 1618085922270,
     "user": {
      "displayName": "Musical Pamya",
      "photoUrl": "",
      "userId": "09464892964237415657"
     },
     "user_tz": -330
    },
    "id": "y09AeGfzOYL9"
   },
   "outputs": [],
   "source": [
    "y_pred = grids.predict(X_test)"
   ]
  },
  {
   "cell_type": "code",
   "execution_count": null,
   "metadata": {
    "executionInfo": {
     "elapsed": 12997686,
     "status": "ok",
     "timestamp": 1618085922975,
     "user": {
      "displayName": "Musical Pamya",
      "photoUrl": "",
      "userId": "09464892964237415657"
     },
     "user_tz": -330
    },
    "id": "Xui8umYxOYL9"
   },
   "outputs": [],
   "source": [
    "output['churn_risk_score'] = y_pred"
   ]
  },
  {
   "cell_type": "code",
   "execution_count": null,
   "metadata": {
    "executionInfo": {
     "elapsed": 12997686,
     "status": "ok",
     "timestamp": 1618085922980,
     "user": {
      "displayName": "Musical Pamya",
      "photoUrl": "",
      "userId": "09464892964237415657"
     },
     "user_tz": -330
    },
    "id": "0GXaQTRQOYL9"
   },
   "outputs": [],
   "source": [
    "output.to_csv('F:\\Projects\\Hackathons\\HE\\churn_risk_rate\\outputs\\out_rf_final.csv', header = True, index = False)\n",
    "\n",
    "# output.to_csv('/content/drive/MyDrive/Projects/churn_risk_rate/outputs/out_1.csv', header = True, index = False)"
   ]
  }
 ],
 "metadata": {
  "colab": {
   "collapsed_sections": [],
   "name": "random_forrest.ipynb",
   "provenance": []
  },
  "kernelspec": {
   "display_name": "Python 3",
   "language": "python",
   "name": "python3"
  },
  "language_info": {
   "codemirror_mode": {
    "name": "ipython",
    "version": 3
   },
   "file_extension": ".py",
   "mimetype": "text/x-python",
   "name": "python",
   "nbconvert_exporter": "python",
   "pygments_lexer": "ipython3",
   "version": "3.7.3"
  }
 },
 "nbformat": 4,
 "nbformat_minor": 1
}
