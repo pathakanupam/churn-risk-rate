{
 "cells": [
  {
   "cell_type": "markdown",
   "metadata": {},
   "source": [
    "## Task : Predict the churn score for a website based on the features provided in the dataset\n",
    "https://www.hackerearth.com/challenges/competitive/hackerearth-machine-learning-challenge-predict-customer-churn/machine-learning/predict-the-churn-risk-rate-11-fb7a760d/"
   ]
  },
  {
   "cell_type": "markdown",
   "metadata": {},
   "source": [
    "Churn rate is a marketing metric that describes the number of customers who leave a business over a specific time period. . Every user is assigned a prediction value that estimates their state of churn at any given time. This value is based on:\n",
    "\n",
    "* User demographic information\n",
    "* Browsing behavior\n",
    "* Historical purchase data among other information \n",
    "\n",
    "It factors in our unique and proprietary predictions of how long a user will remain a customer. This score is updated every day for all users who have a minimum of one conversion. The values assigned are between 1 and 5."
   ]
  },
  {
   "cell_type": "code",
   "execution_count": 1,
   "metadata": {},
   "outputs": [],
   "source": [
    "import pandas as pd\n",
    "import numpy as np\n",
    "\n",
    "import matplotlib.pyplot as plt\n",
    "import seaborn as sns"
   ]
  },
  {
   "cell_type": "code",
   "execution_count": 2,
   "metadata": {},
   "outputs": [],
   "source": [
    "train = pd.read_csv(r'F:\\Projects\\Hackathons\\HE\\churn_risk_rate\\dataset\\train.csv')\n",
    "test = pd.read_csv(r'F:\\Projects\\Hackathons\\HE\\churn_risk_rate\\dataset\\test.csv')\n",
    "# Dropping unimportant columns\n",
    "\n",
    "ouput = pd.DataFrame(columns = ['customer_id','churn_risk_score'])\n",
    "cols_to_drop = ['customer_id', 'Name', 'security_no']\n",
    "train = train.drop(cols_to_drop, axis = 1)\n",
    "test = test.drop(cols_to_drop, axis = 1)\n"
   ]
  },
  {
   "cell_type": "code",
   "execution_count": 3,
   "metadata": {
    "scrolled": true
   },
   "outputs": [
    {
     "data": {
      "text/html": [
       "<div>\n",
       "<style scoped>\n",
       "    .dataframe tbody tr th:only-of-type {\n",
       "        vertical-align: middle;\n",
       "    }\n",
       "\n",
       "    .dataframe tbody tr th {\n",
       "        vertical-align: top;\n",
       "    }\n",
       "\n",
       "    .dataframe thead th {\n",
       "        text-align: right;\n",
       "    }\n",
       "</style>\n",
       "<table border=\"1\" class=\"dataframe\">\n",
       "  <thead>\n",
       "    <tr style=\"text-align: right;\">\n",
       "      <th></th>\n",
       "      <th>age</th>\n",
       "      <th>gender</th>\n",
       "      <th>region_category</th>\n",
       "      <th>membership_category</th>\n",
       "      <th>joining_date</th>\n",
       "      <th>joined_through_referral</th>\n",
       "      <th>referral_id</th>\n",
       "      <th>preferred_offer_types</th>\n",
       "      <th>medium_of_operation</th>\n",
       "      <th>internet_option</th>\n",
       "      <th>last_visit_time</th>\n",
       "    </tr>\n",
       "  </thead>\n",
       "  <tbody>\n",
       "    <tr>\n",
       "      <th>0</th>\n",
       "      <td>18</td>\n",
       "      <td>F</td>\n",
       "      <td>Village</td>\n",
       "      <td>Platinum Membership</td>\n",
       "      <td>2017-08-17</td>\n",
       "      <td>No</td>\n",
       "      <td>xxxxxxxx</td>\n",
       "      <td>Gift Vouchers/Coupons</td>\n",
       "      <td>?</td>\n",
       "      <td>Wi-Fi</td>\n",
       "      <td>16:08:02</td>\n",
       "    </tr>\n",
       "    <tr>\n",
       "      <th>1</th>\n",
       "      <td>32</td>\n",
       "      <td>F</td>\n",
       "      <td>City</td>\n",
       "      <td>Premium Membership</td>\n",
       "      <td>2017-08-28</td>\n",
       "      <td>?</td>\n",
       "      <td>CID21329</td>\n",
       "      <td>Gift Vouchers/Coupons</td>\n",
       "      <td>Desktop</td>\n",
       "      <td>Mobile_Data</td>\n",
       "      <td>12:38:13</td>\n",
       "    </tr>\n",
       "    <tr>\n",
       "      <th>2</th>\n",
       "      <td>44</td>\n",
       "      <td>F</td>\n",
       "      <td>Town</td>\n",
       "      <td>No Membership</td>\n",
       "      <td>2016-11-11</td>\n",
       "      <td>Yes</td>\n",
       "      <td>CID12313</td>\n",
       "      <td>Gift Vouchers/Coupons</td>\n",
       "      <td>Desktop</td>\n",
       "      <td>Wi-Fi</td>\n",
       "      <td>22:53:21</td>\n",
       "    </tr>\n",
       "    <tr>\n",
       "      <th>3</th>\n",
       "      <td>37</td>\n",
       "      <td>M</td>\n",
       "      <td>City</td>\n",
       "      <td>No Membership</td>\n",
       "      <td>2016-10-29</td>\n",
       "      <td>Yes</td>\n",
       "      <td>CID3793</td>\n",
       "      <td>Gift Vouchers/Coupons</td>\n",
       "      <td>Desktop</td>\n",
       "      <td>Mobile_Data</td>\n",
       "      <td>15:57:50</td>\n",
       "    </tr>\n",
       "  </tbody>\n",
       "</table>\n",
       "</div>"
      ],
      "text/plain": [
       "   age gender region_category  membership_category joining_date  \\\n",
       "0   18      F         Village  Platinum Membership   2017-08-17   \n",
       "1   32      F            City   Premium Membership   2017-08-28   \n",
       "2   44      F            Town        No Membership   2016-11-11   \n",
       "3   37      M            City        No Membership   2016-10-29   \n",
       "\n",
       "  joined_through_referral referral_id  preferred_offer_types  \\\n",
       "0                      No    xxxxxxxx  Gift Vouchers/Coupons   \n",
       "1                       ?    CID21329  Gift Vouchers/Coupons   \n",
       "2                     Yes    CID12313  Gift Vouchers/Coupons   \n",
       "3                     Yes     CID3793  Gift Vouchers/Coupons   \n",
       "\n",
       "  medium_of_operation internet_option last_visit_time  \n",
       "0                   ?           Wi-Fi        16:08:02  \n",
       "1             Desktop     Mobile_Data        12:38:13  \n",
       "2             Desktop           Wi-Fi        22:53:21  \n",
       "3             Desktop     Mobile_Data        15:57:50  "
      ]
     },
     "execution_count": 3,
     "metadata": {},
     "output_type": "execute_result"
    }
   ],
   "source": [
    "train.iloc[:,:11].head(4)"
   ]
  },
  {
   "cell_type": "code",
   "execution_count": 4,
   "metadata": {
    "scrolled": true
   },
   "outputs": [
    {
     "data": {
      "text/html": [
       "<div>\n",
       "<style scoped>\n",
       "    .dataframe tbody tr th:only-of-type {\n",
       "        vertical-align: middle;\n",
       "    }\n",
       "\n",
       "    .dataframe tbody tr th {\n",
       "        vertical-align: top;\n",
       "    }\n",
       "\n",
       "    .dataframe thead th {\n",
       "        text-align: right;\n",
       "    }\n",
       "</style>\n",
       "<table border=\"1\" class=\"dataframe\">\n",
       "  <thead>\n",
       "    <tr style=\"text-align: right;\">\n",
       "      <th></th>\n",
       "      <th>days_since_last_login</th>\n",
       "      <th>avg_time_spent</th>\n",
       "      <th>avg_transaction_value</th>\n",
       "      <th>avg_frequency_login_days</th>\n",
       "      <th>points_in_wallet</th>\n",
       "      <th>used_special_discount</th>\n",
       "      <th>offer_application_preference</th>\n",
       "      <th>past_complaint</th>\n",
       "      <th>complaint_status</th>\n",
       "      <th>feedback</th>\n",
       "      <th>churn_risk_score</th>\n",
       "    </tr>\n",
       "  </thead>\n",
       "  <tbody>\n",
       "    <tr>\n",
       "      <th>0</th>\n",
       "      <td>17</td>\n",
       "      <td>300.63</td>\n",
       "      <td>53005.25</td>\n",
       "      <td>17.0</td>\n",
       "      <td>781.75</td>\n",
       "      <td>Yes</td>\n",
       "      <td>Yes</td>\n",
       "      <td>No</td>\n",
       "      <td>Not Applicable</td>\n",
       "      <td>Products always in Stock</td>\n",
       "      <td>2</td>\n",
       "    </tr>\n",
       "    <tr>\n",
       "      <th>1</th>\n",
       "      <td>16</td>\n",
       "      <td>306.34</td>\n",
       "      <td>12838.38</td>\n",
       "      <td>10.0</td>\n",
       "      <td>NaN</td>\n",
       "      <td>Yes</td>\n",
       "      <td>No</td>\n",
       "      <td>Yes</td>\n",
       "      <td>Solved</td>\n",
       "      <td>Quality Customer Care</td>\n",
       "      <td>1</td>\n",
       "    </tr>\n",
       "    <tr>\n",
       "      <th>2</th>\n",
       "      <td>14</td>\n",
       "      <td>516.16</td>\n",
       "      <td>21027.00</td>\n",
       "      <td>22.0</td>\n",
       "      <td>500.69</td>\n",
       "      <td>No</td>\n",
       "      <td>Yes</td>\n",
       "      <td>Yes</td>\n",
       "      <td>Solved in Follow-up</td>\n",
       "      <td>Poor Website</td>\n",
       "      <td>5</td>\n",
       "    </tr>\n",
       "    <tr>\n",
       "      <th>3</th>\n",
       "      <td>11</td>\n",
       "      <td>53.27</td>\n",
       "      <td>25239.56</td>\n",
       "      <td>6.0</td>\n",
       "      <td>567.66</td>\n",
       "      <td>No</td>\n",
       "      <td>Yes</td>\n",
       "      <td>Yes</td>\n",
       "      <td>Unsolved</td>\n",
       "      <td>Poor Website</td>\n",
       "      <td>5</td>\n",
       "    </tr>\n",
       "  </tbody>\n",
       "</table>\n",
       "</div>"
      ],
      "text/plain": [
       "   days_since_last_login  avg_time_spent  avg_transaction_value  \\\n",
       "0                     17          300.63               53005.25   \n",
       "1                     16          306.34               12838.38   \n",
       "2                     14          516.16               21027.00   \n",
       "3                     11           53.27               25239.56   \n",
       "\n",
       "  avg_frequency_login_days  points_in_wallet used_special_discount  \\\n",
       "0                     17.0            781.75                   Yes   \n",
       "1                     10.0               NaN                   Yes   \n",
       "2                     22.0            500.69                    No   \n",
       "3                      6.0            567.66                    No   \n",
       "\n",
       "  offer_application_preference past_complaint     complaint_status  \\\n",
       "0                          Yes             No       Not Applicable   \n",
       "1                           No            Yes               Solved   \n",
       "2                          Yes            Yes  Solved in Follow-up   \n",
       "3                          Yes            Yes             Unsolved   \n",
       "\n",
       "                   feedback  churn_risk_score  \n",
       "0  Products always in Stock                 2  \n",
       "1     Quality Customer Care                 1  \n",
       "2              Poor Website                 5  \n",
       "3              Poor Website                 5  "
      ]
     },
     "execution_count": 4,
     "metadata": {},
     "output_type": "execute_result"
    }
   ],
   "source": [
    "train.iloc[:,11:].head(4)"
   ]
  },
  {
   "cell_type": "code",
   "execution_count": 6,
   "metadata": {
    "scrolled": true
   },
   "outputs": [
    {
     "name": "stdout",
     "output_type": "stream",
     "text": [
      "---------| gender  |------------\n",
      "F          18490\n",
      "M          18443\n",
      "Unknown       59\n",
      "Name: gender, dtype: int64\n",
      "\n",
      "==============================================================================\n",
      "\n",
      "---------| region_category  |------------\n",
      "Town       14128\n",
      "City       12737\n",
      "Village     4699\n",
      "Name: region_category, dtype: int64\n",
      "\n",
      "==============================================================================\n",
      "\n",
      "---------| membership_category  |------------\n",
      "Basic Membership       7724\n",
      "No Membership          7692\n",
      "Gold Membership        6795\n",
      "Silver Membership      5988\n",
      "Premium Membership     4455\n",
      "Platinum Membership    4338\n",
      "Name: membership_category, dtype: int64\n",
      "\n",
      "==============================================================================\n",
      "\n",
      "---------| joined_through_referral  |------------\n",
      "No     15839\n",
      "Yes    15715\n",
      "?       5438\n",
      "Name: joined_through_referral, dtype: int64\n",
      "\n",
      "==============================================================================\n",
      "\n",
      "---------| preferred_offer_types  |------------\n",
      "Gift Vouchers/Coupons       12349\n",
      "Credit/Debit Card Offers    12274\n",
      "Without Offers              12081\n",
      "Name: preferred_offer_types, dtype: int64\n",
      "\n",
      "==============================================================================\n",
      "\n",
      "---------| medium_of_operation  |------------\n",
      "Desktop       13913\n",
      "Smartphone    13876\n",
      "?              5393\n",
      "Both           3810\n",
      "Name: medium_of_operation, dtype: int64\n",
      "\n",
      "==============================================================================\n",
      "\n",
      "---------| internet_option  |------------\n",
      "Wi-Fi          12413\n",
      "Mobile_Data    12343\n",
      "Fiber_Optic    12236\n",
      "Name: internet_option, dtype: int64\n",
      "\n",
      "==============================================================================\n",
      "\n",
      "---------| used_special_discount  |------------\n",
      "Yes    20342\n",
      "No     16650\n",
      "Name: used_special_discount, dtype: int64\n",
      "\n",
      "==============================================================================\n",
      "\n",
      "---------| offer_application_preference  |------------\n",
      "Yes    20440\n",
      "No     16552\n",
      "Name: offer_application_preference, dtype: int64\n",
      "\n",
      "==============================================================================\n",
      "\n",
      "---------| past_complaint  |------------\n",
      "No     18602\n",
      "Yes    18390\n",
      "Name: past_complaint, dtype: int64\n",
      "\n",
      "==============================================================================\n",
      "\n",
      "---------| complaint_status  |------------\n",
      "Not Applicable              18602\n",
      "Unsolved                     4644\n",
      "Solved                       4619\n",
      "Solved in Follow-up          4577\n",
      "No Information Available     4550\n",
      "Name: complaint_status, dtype: int64\n",
      "\n",
      "==============================================================================\n",
      "\n",
      "---------| feedback  |------------\n",
      "Poor Product Quality        6350\n",
      "No reason specified         6290\n",
      "Too many ads                6279\n",
      "Poor Website                6271\n",
      "Poor Customer Service       6252\n",
      "Reasonable Price            1417\n",
      "User Friendly Website       1391\n",
      "Products always in Stock    1382\n",
      "Quality Customer Care       1360\n",
      "Name: feedback, dtype: int64\n",
      "\n",
      "==============================================================================\n",
      "\n",
      "---------| churn_risk_score  |------------\n",
      " 3    10424\n",
      " 4    10185\n",
      " 5     9827\n",
      " 2     2741\n",
      " 1     2652\n",
      "-1     1163\n",
      "Name: churn_risk_score, dtype: int64\n",
      "\n",
      "==============================================================================\n",
      "\n"
     ]
    }
   ],
   "source": [
    "cols = ['gender',\n",
    "       'region_category', 'membership_category', 'joined_through_referral','preferred_offer_types',\n",
    "       'medium_of_operation', 'internet_option', 'used_special_discount',\n",
    "       'offer_application_preference', 'past_complaint', 'complaint_status',\n",
    "       'feedback', 'churn_risk_score']\n",
    "for i in cols : \n",
    "    print('---------|', i ,' |------------')\n",
    "    print(train[i].value_counts())\n",
    "    print('\\n==============================================================================\\n')"
   ]
  },
  {
   "cell_type": "code",
   "execution_count": 7,
   "metadata": {
    "scrolled": true
   },
   "outputs": [
    {
     "data": {
      "text/plain": [
       "region_category          5428\n",
       "preferred_offer_types     288\n",
       "points_in_wallet         3443\n",
       "dtype: int64"
      ]
     },
     "execution_count": 7,
     "metadata": {},
     "output_type": "execute_result"
    }
   ],
   "source": [
    "train.isna().sum()[train.isna().sum() > 0]"
   ]
  },
  {
   "cell_type": "code",
   "execution_count": 8,
   "metadata": {},
   "outputs": [
    {
     "data": {
      "text/plain": [
       "region_category          2948\n",
       "preferred_offer_types     159\n",
       "points_in_wallet         1963\n",
       "dtype: int64"
      ]
     },
     "execution_count": 8,
     "metadata": {},
     "output_type": "execute_result"
    }
   ],
   "source": [
    "test.isna().sum()[test.isna().sum() > 0]"
   ]
  },
  {
   "cell_type": "code",
   "execution_count": 9,
   "metadata": {},
   "outputs": [
    {
     "data": {
      "text/plain": [
       "F          18490\n",
       "M          18443\n",
       "Unknown       59\n",
       "Name: gender, dtype: int64"
      ]
     },
     "execution_count": 9,
     "metadata": {},
     "output_type": "execute_result"
    }
   ],
   "source": [
    "train.gender.value_counts()"
   ]
  },
  {
   "cell_type": "markdown",
   "metadata": {},
   "source": [
    "### Missing Values"
   ]
  },
  {
   "cell_type": "code",
   "execution_count": 10,
   "metadata": {},
   "outputs": [
    {
     "data": {
      "text/plain": [
       "59"
      ]
     },
     "execution_count": 10,
     "metadata": {},
     "output_type": "execute_result"
    }
   ],
   "source": [
    "len(train.gender[train.gender == 'Unknown'])"
   ]
  },
  {
   "cell_type": "code",
   "execution_count": 11,
   "metadata": {},
   "outputs": [
    {
     "data": {
      "text/plain": [
       "5438"
      ]
     },
     "execution_count": 11,
     "metadata": {},
     "output_type": "execute_result"
    }
   ],
   "source": [
    "len(train.joined_through_referral[train.joined_through_referral == '?'])"
   ]
  },
  {
   "cell_type": "code",
   "execution_count": 12,
   "metadata": {},
   "outputs": [
    {
     "data": {
      "text/plain": [
       "5393"
      ]
     },
     "execution_count": 12,
     "metadata": {},
     "output_type": "execute_result"
    }
   ],
   "source": [
    "len(train.medium_of_operation[train.medium_of_operation == '?'])"
   ]
  },
  {
   "cell_type": "code",
   "execution_count": 13,
   "metadata": {},
   "outputs": [
    {
     "data": {
      "text/plain": [
       "(3522, 22)"
      ]
     },
     "execution_count": 13,
     "metadata": {},
     "output_type": "execute_result"
    }
   ],
   "source": [
    "train[train.avg_frequency_login_days == 'Error'].shape"
   ]
  },
  {
   "cell_type": "markdown",
   "metadata": {},
   "source": [
    "### Imputation for Missing Values"
   ]
  },
  {
   "cell_type": "code",
   "execution_count": 14,
   "metadata": {},
   "outputs": [],
   "source": [
    "from sklearn.impute import SimpleImputer\n",
    "imputer_gender = SimpleImputer(missing_values = 'Unknown', strategy='most_frequent')\n",
    "train.loc[:,'gender'] = imputer_gender.fit_transform(train.loc[:,'gender'].to_numpy().reshape(-1,1))\n",
    "\n",
    "test.loc[:,'gender'] = imputer_gender.transform(test.loc[:,'gender'].to_numpy().reshape(-1,1))"
   ]
  },
  {
   "cell_type": "code",
   "execution_count": 15,
   "metadata": {},
   "outputs": [],
   "source": [
    "from sklearn.impute import SimpleImputer\n",
    "imputer_medium_of_operation = SimpleImputer(missing_values = '?', strategy='most_frequent')\n",
    "train.loc[:,'medium_of_operation'] = imputer_medium_of_operation.fit_transform(train.loc[:,'medium_of_operation'].to_numpy().reshape(-1,1))\n",
    "test.loc[:,'medium_of_operation'] = imputer_medium_of_operation.transform(test.loc[:,'medium_of_operation'].to_numpy().reshape(-1,1))"
   ]
  },
  {
   "cell_type": "code",
   "execution_count": 16,
   "metadata": {},
   "outputs": [],
   "source": [
    "train. avg_frequency_login_days = train.avg_frequency_login_days.replace({'Error':np.nan})\n",
    "train.avg_frequency_login_days = pd.to_numeric(train.avg_frequency_login_days)\n",
    "\n",
    "test.avg_frequency_login_days = test.avg_frequency_login_days.replace({'Error':np.nan})\n",
    "test.avg_frequency_login_days = pd.to_numeric(test.avg_frequency_login_days)"
   ]
  },
  {
   "cell_type": "code",
   "execution_count": 17,
   "metadata": {},
   "outputs": [],
   "source": [
    "from sklearn.impute import SimpleImputer\n",
    "imputer_avg_f_login_days = SimpleImputer(missing_values = np.nan, strategy='mean')\n",
    "train.loc[:,'avg_frequency_login_days'] = imputer_avg_f_login_days.fit_transform(train.loc[:,'avg_frequency_login_days'].to_numpy().reshape(-1,1))\n",
    "\n",
    "test.loc[:,'avg_frequency_login_days'] = imputer_avg_f_login_days.transform(test.loc[:,'avg_frequency_login_days'].to_numpy().reshape(-1,1))"
   ]
  },
  {
   "cell_type": "code",
   "execution_count": 18,
   "metadata": {},
   "outputs": [],
   "source": [
    "for i in range(train.shape[0]): \n",
    "    if train.loc[i, 'joined_through_referral'] == '?' : \n",
    "        if train.loc[i, 'referral_id'] == 'xxxxxxxx' : \n",
    "            train.loc[i, 'joined_through_referral'] = 'No'\n",
    "        else : \n",
    "            train.loc[i, 'joined_through_referral'] = 'Yes'\n",
    "\n",
    "for i in range(test.shape[0]):           \n",
    "    if test.loc[i, 'joined_through_referral'] == '?' : \n",
    "        if test.loc[i, 'referral_id'] == 'xxxxxxxx' : \n",
    "            test.loc[i, 'joined_through_referral'] = 'No'\n",
    "        else : \n",
    "            test.loc[i, 'joined_through_referral'] = 'Yes'"
   ]
  },
  {
   "cell_type": "code",
   "execution_count": 19,
   "metadata": {},
   "outputs": [],
   "source": [
    "cols  = ['region_category', 'preferred_offer_types']\n",
    "\n",
    "imputer_cat = SimpleImputer(missing_values = np.nan, strategy = 'most_frequent')\n",
    "train.loc[:,cols] = imputer_cat.fit_transform(train.loc[:,cols])\n",
    "test.loc[:,cols] = imputer_cat.fit_transform(test.loc[:,cols])"
   ]
  },
  {
   "cell_type": "code",
   "execution_count": 20,
   "metadata": {},
   "outputs": [],
   "source": [
    "imputer_points_in_wallet = SimpleImputer(missing_values = np.nan, strategy = 'mean')\n",
    "\n",
    "train.loc[:,'points_in_wallet'] = imputer_points_in_wallet.fit_transform(train.loc[:,'points_in_wallet'].to_numpy().reshape(-1,1))\n",
    "test.loc[:,'points_in_wallet'] = imputer_points_in_wallet.fit_transform(test.loc[:,'points_in_wallet'].to_numpy().reshape(-1,1))"
   ]
  },
  {
   "cell_type": "code",
   "execution_count": 21,
   "metadata": {},
   "outputs": [],
   "source": [
    "train = train.drop(['referral_id', 'joining_date', 'last_visit_time'], axis = 1)\n",
    "test = test.drop(['referral_id', 'joining_date', 'last_visit_time'], axis = 1)"
   ]
  },
  {
   "cell_type": "code",
   "execution_count": 22,
   "metadata": {},
   "outputs": [],
   "source": [
    "train.avg_time_spent = abs(train.avg_time_spent)\n",
    "test.avg_time_spent = abs(test.avg_time_spent)\n",
    "\n",
    "train.avg_frequency_login_days = abs(train.avg_frequency_login_days)\n",
    "test.avg_frequency_login_days = abs(test.avg_frequency_login_days)\n",
    "\n",
    "for i in range(train.shape[0]) :\n",
    "    if train.loc[i,'days_since_last_login'] < 0 : \n",
    "        train.loc[i,'days_since_last_login'] = 0\n",
    "\n",
    "for i in range(test.shape[0]) : \n",
    "    if test.loc[i,'days_since_last_login'] < 0 : \n",
    "        test.loc[i,'days_since_last_login'] = 0"
   ]
  },
  {
   "cell_type": "markdown",
   "metadata": {},
   "source": [
    "# Encoding"
   ]
  },
  {
   "cell_type": "code",
   "execution_count": 23,
   "metadata": {},
   "outputs": [],
   "source": [
    "# import category_encoders as ce\n",
    "# from category_encoders import TargetEncoder\n",
    "\n",
    "# encoder_membership = ce.TargetEncoder(cols= 'membership_category') \n",
    "# train.loc[:,'membership_category'] = encoder_membership.fit_transform(train['membership_category'],train['churn_risk_score'])\n",
    "# test.loc[:,'membership_category'] = encoder_membership.transform(test.loc[:,'membership_category'])\n",
    "\n",
    "# encoder_complaint = ce.TargetEncoder(cols= 'complaint_status') \n",
    "# train.loc[:,'complaint_status'] = encoder_complaint.fit_transform(train['complaint_status'],train['churn_risk_score'])\n",
    "# test.loc[:,'complaint_status'] = encoder_complaint.transform(test.loc[:,'complaint_status'])\n",
    "\n",
    "# encoder_feedback = ce.TargetEncoder(cols= 'feedback') \n",
    "# train.loc[:,'feedback'] = encoder_feedback.fit_transform(train['feedback'],train['churn_risk_score'])\n",
    "# test.loc[:,'feedback'] = encoder_feedback.transform(test.loc[:,'feedback'])"
   ]
  },
  {
   "cell_type": "code",
   "execution_count": 24,
   "metadata": {},
   "outputs": [],
   "source": [
    "X_train, y_train = train.iloc[:,:-1], train.iloc[:,-1]\n",
    "X_test = test"
   ]
  },
  {
   "cell_type": "code",
   "execution_count": 26,
   "metadata": {},
   "outputs": [],
   "source": [
    "cols_2_onehotencode = ['gender', 'region_category', 'membership_category',\n",
    "       'joined_through_referral', 'preferred_offer_types',\n",
    "       'medium_of_operation', 'internet_option', 'used_special_discount',\n",
    "       'offer_application_preference', 'past_complaint', 'complaint_status',\n",
    "       'feedback']\n",
    "\n",
    "\n",
    "from sklearn.compose import ColumnTransformer\n",
    "from sklearn.preprocessing import OneHotEncoder\n",
    "\n",
    "ct = ColumnTransformer(transformers=[('encoder',OneHotEncoder(),cols_2_onehotencode)], remainder='passthrough')\n",
    "X_train = ct.fit_transform(X_train)\n",
    "X_test = ct.transform(X_test)\n"
   ]
  },
  {
   "cell_type": "code",
   "execution_count": 27,
   "metadata": {},
   "outputs": [
    {
     "data": {
      "text/plain": [
       "array([[1.00000000e+00, 0.00000000e+00, 0.00000000e+00, ...,\n",
       "        5.30052500e+04, 1.70000000e+01, 7.81750000e+02],\n",
       "       [1.00000000e+00, 0.00000000e+00, 1.00000000e+00, ...,\n",
       "        1.28383800e+04, 1.00000000e+01, 6.86882199e+02],\n",
       "       [1.00000000e+00, 0.00000000e+00, 0.00000000e+00, ...,\n",
       "        2.10270000e+04, 2.20000000e+01, 5.00690000e+02],\n",
       "       ...,\n",
       "       [1.00000000e+00, 0.00000000e+00, 0.00000000e+00, ...,\n",
       "        3.81275600e+04, 1.59767152e+01, 6.80470000e+02],\n",
       "       [0.00000000e+00, 1.00000000e+00, 0.00000000e+00, ...,\n",
       "        2.37886000e+03, 2.00000000e+01, 1.97264414e+02],\n",
       "       [0.00000000e+00, 1.00000000e+00, 0.00000000e+00, ...,\n",
       "        2.18968000e+03, 1.59767152e+01, 7.19970000e+02]])"
      ]
     },
     "execution_count": 27,
     "metadata": {},
     "output_type": "execute_result"
    }
   ],
   "source": [
    "X_train"
   ]
  },
  {
   "cell_type": "code",
   "execution_count": 28,
   "metadata": {},
   "outputs": [
    {
     "data": {
      "text/plain": [
       "array([[1.00000000e+00, 0.00000000e+00, 0.00000000e+00, ...,\n",
       "        4.07214400e+04, 7.00000000e+00, 7.33830000e+02],\n",
       "       [0.00000000e+00, 1.00000000e+00, 0.00000000e+00, ...,\n",
       "        9.64440000e+03, 9.00000000e+00, 7.26000000e+02],\n",
       "       [1.00000000e+00, 0.00000000e+00, 0.00000000e+00, ...,\n",
       "        3.69325000e+03, 2.10000000e+01, 7.13780000e+02],\n",
       "       ...,\n",
       "       [0.00000000e+00, 1.00000000e+00, 0.00000000e+00, ...,\n",
       "        1.79037500e+04, 2.40000000e+01, 5.64300000e+02],\n",
       "       [1.00000000e+00, 0.00000000e+00, 1.00000000e+00, ...,\n",
       "        1.40570900e+04, 2.20000000e+01, 6.06340000e+02],\n",
       "       [0.00000000e+00, 1.00000000e+00, 0.00000000e+00, ...,\n",
       "        3.67864400e+04, 1.59767152e+01, 1.19368981e+03]])"
      ]
     },
     "execution_count": 28,
     "metadata": {},
     "output_type": "execute_result"
    }
   ],
   "source": [
    "X_test"
   ]
  },
  {
   "cell_type": "code",
   "execution_count": 29,
   "metadata": {},
   "outputs": [
    {
     "data": {
      "text/plain": [
       "(36992, 48)"
      ]
     },
     "execution_count": 29,
     "metadata": {},
     "output_type": "execute_result"
    }
   ],
   "source": [
    "X_train.shape"
   ]
  },
  {
   "cell_type": "code",
   "execution_count": 30,
   "metadata": {},
   "outputs": [
    {
     "data": {
      "text/plain": [
       "(19919, 48)"
      ]
     },
     "execution_count": 30,
     "metadata": {},
     "output_type": "execute_result"
    }
   ],
   "source": [
    "X_test.shape"
   ]
  },
  {
   "cell_type": "code",
   "execution_count": 41,
   "metadata": {},
   "outputs": [],
   "source": [
    "from sklearn.preprocessing import StandardScaler\n",
    "\n",
    "sc = StandardScaler()\n",
    "\n",
    "X_train = sc.fit_transform(X_train)\n",
    "X_test = sc.transform(X_test)"
   ]
  }
 ],
 "metadata": {
  "kernelspec": {
   "display_name": "Python 3",
   "language": "python",
   "name": "python3"
  },
  "language_info": {
   "codemirror_mode": {
    "name": "ipython",
    "version": 3
   },
   "file_extension": ".py",
   "mimetype": "text/x-python",
   "name": "python",
   "nbconvert_exporter": "python",
   "pygments_lexer": "ipython3",
   "version": "3.7.3"
  }
 },
 "nbformat": 4,
 "nbformat_minor": 2
}
